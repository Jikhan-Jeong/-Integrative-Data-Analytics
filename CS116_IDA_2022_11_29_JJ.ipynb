{
  "nbformat": 4,
  "nbformat_minor": 0,
  "metadata": {
    "colab": {
      "provenance": [],
      "collapsed_sections": [
        "01m4bfC7AGZg",
        "pGd_iEflcD99"
      ]
    },
    "kernelspec": {
      "name": "python3",
      "display_name": "Python 3"
    },
    "language_info": {
      "name": "python"
    }
  },
  "cells": [
    {
      "cell_type": "markdown",
      "source": [
        "----\n",
        "# CS116: Computational reasoning with and without data\n",
        "----\n",
        "* date: 11-29-2022\n",
        "* name: Jikhan Jeong (JJ)\n",
        "----\n",
        "1. Intro\n",
        "\n",
        "* ice-breaking: digital currency, smart contract, vending machine, and Amazon\n",
        "* plan : 10:30-11:30am\n",
        "* Questions about tools (Jupyternotebook, colab, github, and others) \n",
        "\n",
        "2. Goal: learn how to apply *computational thinking*   \n",
        "- step 0: intro (5 min)\n",
        "- step 1: learn the basics (10 min)\n",
        "- step 2: apply it with small examples (20 min)\n",
        "- step 3: apply it with a real dataset (20 min)\n",
        "- step 4: discuss future directions (5 min)\n",
        "\n",
        "3. Google colab intro : https://colab.research.google.com/\n",
        "- Free CPU\n",
        "- Free Storage\n",
        "- Free GPU \n",
        "- With Google Drive and GitHub\n",
        "\n",
        "4. (concept) Python key concepts \n",
        "* ref: https://github.com/Jikhan-Jeong/IDA\n",
        "* Basic operations\n",
        "* Iteration\n",
        "* Conditional statement\n",
        "* Function\n",
        "\n",
        "5. (example demo) Creating our vending machine function\n",
        "\n",
        "\n",
        "6. (example activities) In-class activity for modifying our vending machine function\n",
        "\n",
        "7. (example discussion) How to improve our vending machine function\n",
        "\n",
        "8. (real data example) Amazon Online Review for Wine (amazon_wine.csv)\n",
        "* Amazon Online Review for Wine\n",
        "\n",
        "9. (real data example demo): Applying iteration and function\n",
        "\n",
        "10. (real data example activity): Applying all we have learn today\n",
        "\n",
        "11. (real data example discussion): For computational thinking and future ideas\n",
        "\n",
        "12. Share resources for future studies\n",
        "\n",
        "13. Q&A\n",
        "\n"
      ],
      "metadata": {
        "id": "01m4bfC7AGZg"
      }
    },
    {
      "cell_type": "markdown",
      "source": [
        "---\n",
        "# 4. (concept) Python key concepts \n",
        "* Ref: https://github.com/Jikhan-Jeong/IDA\n",
        "* Basic operations\n",
        "* Iteration\n",
        "* Conditional statement\n",
        "* Function\n",
        "---"
      ],
      "metadata": {
        "id": "eXUTmUrjFYX2"
      }
    },
    {
      "cell_type": "markdown",
      "source": [
        "### Basic operations"
      ],
      "metadata": {
        "id": "lghb7wXeHwB4"
      }
    },
    {
      "cell_type": "code",
      "execution_count": 1,
      "metadata": {
        "colab": {
          "base_uri": "https://localhost:8080/"
        },
        "id": "susXjdhUAFvx",
        "outputId": "6118b0be-72cc-40a2-ba74-9b521631ad84"
      },
      "outputs": [
        {
          "output_type": "stream",
          "name": "stdout",
          "text": [
            "hello, world\n"
          ]
        }
      ],
      "source": [
        "print('hello, world')"
      ]
    },
    {
      "cell_type": "code",
      "source": [
        "print('hello, world')\n",
        "print('hello, world')\n",
        "print('hello, world')\n",
        "print('hello, world')\n",
        "print('hello, world')\n",
        "print('hello, world')\n",
        "print('hello, world')"
      ],
      "metadata": {
        "colab": {
          "base_uri": "https://localhost:8080/"
        },
        "id": "1Ub03Hl8H9u4",
        "outputId": "47fb98fd-8444-4a5e-96a1-963d5786d3a4"
      },
      "execution_count": 2,
      "outputs": [
        {
          "output_type": "stream",
          "name": "stdout",
          "text": [
            "hello, world\n",
            "hello, world\n",
            "hello, world\n",
            "hello, world\n",
            "hello, world\n",
            "hello, world\n",
            "hello, world\n"
          ]
        }
      ]
    },
    {
      "cell_type": "markdown",
      "source": [
        "---\n",
        "* iteration with for-loop\n",
        "---"
      ],
      "metadata": {
        "id": "LyULuaMTJSOE"
      }
    },
    {
      "cell_type": "code",
      "source": [
        "for i in range(0,2):\n",
        "  print(i)"
      ],
      "metadata": {
        "colab": {
          "base_uri": "https://localhost:8080/"
        },
        "id": "ic_CE5PZIPXF",
        "outputId": "0bae4daa-7fca-4cd7-b30b-65b7b602925d"
      },
      "execution_count": null,
      "outputs": [
        {
          "output_type": "stream",
          "name": "stdout",
          "text": [
            "0\n",
            "1\n"
          ]
        }
      ]
    },
    {
      "cell_type": "code",
      "source": [
        "for i in range(1,2):\n",
        "  print(i)"
      ],
      "metadata": {
        "colab": {
          "base_uri": "https://localhost:8080/"
        },
        "id": "DqN5YrudIUxk",
        "outputId": "c48a0859-3484-45a5-8f38-036e4365cd61"
      },
      "execution_count": null,
      "outputs": [
        {
          "output_type": "stream",
          "name": "stdout",
          "text": [
            "1\n"
          ]
        }
      ]
    },
    {
      "cell_type": "markdown",
      "source": [
        "* how to print from 0 to 7"
      ],
      "metadata": {
        "id": "2RvI-dU7dap9"
      }
    },
    {
      "cell_type": "code",
      "source": [
        "# modify the following code\n",
        "# for i in range():\n",
        " "
      ],
      "metadata": {
        "colab": {
          "base_uri": "https://localhost:8080/"
        },
        "id": "v8R3sIyOIXmU",
        "outputId": "f8b8ecc0-f461-45fa-a73a-934969071079"
      },
      "execution_count": null,
      "outputs": [
        {
          "output_type": "stream",
          "name": "stdout",
          "text": [
            "0\n",
            "1\n",
            "2\n",
            "3\n",
            "4\n",
            "5\n",
            "6\n"
          ]
        }
      ]
    },
    {
      "cell_type": "markdown",
      "source": [
        "---\n",
        "* How to use iteration for generating seven sentences?\n",
        "---"
      ],
      "metadata": {
        "id": "_tiR9fByIiUC"
      }
    },
    {
      "cell_type": "code",
      "source": [
        "# modify the following code\n",
        "# for i in range(  ):\n"
      ],
      "metadata": {
        "colab": {
          "base_uri": "https://localhost:8080/"
        },
        "id": "smrweksWIe4y",
        "outputId": "05a455da-24bc-40ba-d2d2-a43d2e68bddb"
      },
      "execution_count": 3,
      "outputs": [
        {
          "output_type": "stream",
          "name": "stdout",
          "text": [
            "hello, world\n",
            "hello, world\n",
            "hello, world\n",
            "hello, world\n",
            "hello, world\n",
            "hello, world\n",
            "hello, world\n"
          ]
        }
      ]
    },
    {
      "cell_type": "markdown",
      "source": [
        "---\n",
        "* How to use iteration for generating seven sentences + index number?\n",
        "---"
      ],
      "metadata": {
        "id": "A2cDNE_-I3H6"
      }
    },
    {
      "cell_type": "code",
      "source": [
        "# modify the following code\n",
        "# for i in range(  ):"
      ],
      "metadata": {
        "colab": {
          "base_uri": "https://localhost:8080/"
        },
        "id": "hSN7peD3I5jG",
        "outputId": "372f40dc-2f58-4bee-ea5d-e256d0f14008"
      },
      "execution_count": 41,
      "outputs": [
        {
          "output_type": "stream",
          "name": "stdout",
          "text": [
            "hello, world 0\n",
            "hello, world 1\n",
            "hello, world 2\n",
            "hello, world 3\n",
            "hello, world 4\n",
            "hello, world 5\n",
            "hello, world 6\n"
          ]
        }
      ]
    },
    {
      "cell_type": "markdown",
      "source": [
        "---\n",
        "* conditional statement\n",
        "---"
      ],
      "metadata": {
        "id": "Phc0vWygJWyn"
      }
    },
    {
      "cell_type": "code",
      "source": [
        "# True case\n",
        "your_choice ='diet coke'\n",
        "your_choice"
      ],
      "metadata": {
        "colab": {
          "base_uri": "https://localhost:8080/",
          "height": 35
        },
        "id": "zUgePoMGI9ad",
        "outputId": "9381f1a5-28d8-4467-dc07-2c66f7abf11f"
      },
      "execution_count": 5,
      "outputs": [
        {
          "output_type": "execute_result",
          "data": {
            "text/plain": [
              "'diet coke'"
            ],
            "application/vnd.google.colaboratory.intrinsic+json": {
              "type": "string"
            }
          },
          "metadata": {},
          "execution_count": 5
        }
      ]
    },
    {
      "cell_type": "code",
      "source": [
        "# True case\n",
        "if your_choice == 'diet coke':\n",
        "   print('you need to pay 2 dollars')"
      ],
      "metadata": {
        "colab": {
          "base_uri": "https://localhost:8080/"
        },
        "id": "hWxc9PuTJ3f7",
        "outputId": "aa4f066f-5940-4325-fd54-dd44aec4d183"
      },
      "execution_count": 6,
      "outputs": [
        {
          "output_type": "stream",
          "name": "stdout",
          "text": [
            "you need to pay 2 dollars\n"
          ]
        }
      ]
    },
    {
      "cell_type": "code",
      "source": [
        "# False case\n",
        "your_choice ='diet pesi';your_choice"
      ],
      "metadata": {
        "colab": {
          "base_uri": "https://localhost:8080/",
          "height": 35
        },
        "id": "_q4PWAIkKCC2",
        "outputId": "348338f7-12dc-4926-a434-056700084cd9"
      },
      "execution_count": 7,
      "outputs": [
        {
          "output_type": "execute_result",
          "data": {
            "text/plain": [
              "'diet pesi'"
            ],
            "application/vnd.google.colaboratory.intrinsic+json": {
              "type": "string"
            }
          },
          "metadata": {},
          "execution_count": 7
        }
      ]
    },
    {
      "cell_type": "code",
      "source": [
        "# False case\n",
        "if your_choice == 'diet coke':\n",
        "   print('you need to pay 2 dollars')"
      ],
      "metadata": {
        "id": "wn3nE9V1KFym"
      },
      "execution_count": 8,
      "outputs": []
    },
    {
      "cell_type": "code",
      "source": [
        "# With number\n",
        "today = 29\n",
        "if today == 31:\n",
        "  print('Nov 31, 2022')"
      ],
      "metadata": {
        "id": "lqBRUbEuK-Qy"
      },
      "execution_count": 9,
      "outputs": []
    },
    {
      "cell_type": "code",
      "source": [
        "# With number\n",
        "today = 31\n",
        "if today == 31:\n",
        "  print('Nov 31, 2022')"
      ],
      "metadata": {
        "colab": {
          "base_uri": "https://localhost:8080/"
        },
        "id": "6zq79LIXUujK",
        "outputId": "8209aa1b-5389-49ec-c226-ff477d30ff22"
      },
      "execution_count": 10,
      "outputs": [
        {
          "output_type": "stream",
          "name": "stdout",
          "text": [
            "Nov 31, 2022\n"
          ]
        }
      ]
    },
    {
      "cell_type": "code",
      "source": [
        "# False\n",
        "a=5\n",
        "if a>7:\n",
        "  print('larger than 7')"
      ],
      "metadata": {
        "id": "V6yzN8_lU32t"
      },
      "execution_count": 11,
      "outputs": []
    },
    {
      "cell_type": "code",
      "source": [
        "# True\n",
        "a=15\n",
        "if a>7:\n",
        "  print('larger than 7')"
      ],
      "metadata": {
        "colab": {
          "base_uri": "https://localhost:8080/"
        },
        "id": "toS11GYfVDbc",
        "outputId": "75b3b6f7-2597-4401-ef93-82c6d42cc13c"
      },
      "execution_count": 12,
      "outputs": [
        {
          "output_type": "stream",
          "name": "stdout",
          "text": [
            "larger than 7\n"
          ]
        }
      ]
    },
    {
      "cell_type": "code",
      "source": [
        "a=6\n",
        "if a>7:\n",
        "  print('larger than 7')\n",
        "else:\n",
        "  print('less or equal to 7')"
      ],
      "metadata": {
        "colab": {
          "base_uri": "https://localhost:8080/"
        },
        "id": "myMGJWRspexm",
        "outputId": "81d30e96-51e4-4a50-cfd9-b33457a5052c"
      },
      "execution_count": 102,
      "outputs": [
        {
          "output_type": "stream",
          "name": "stdout",
          "text": [
            "less or equal to 7\n"
          ]
        }
      ]
    },
    {
      "cell_type": "code",
      "source": [
        "a=5\n",
        "\n",
        "if a>7:\n",
        "  print('larger than 7')\n",
        "elif 7>=a>3:\n",
        "  print('less or equal to 5 and larger than 3')\n",
        "else:\n",
        "  print('less or equal to 3')"
      ],
      "metadata": {
        "colab": {
          "base_uri": "https://localhost:8080/"
        },
        "id": "ZW0wEuzqpyIL",
        "outputId": "ece5435e-36c1-4132-dd2f-2160635998f8"
      },
      "execution_count": 104,
      "outputs": [
        {
          "output_type": "stream",
          "name": "stdout",
          "text": [
            "less or equal to 5 and larger than 3\n"
          ]
        }
      ]
    },
    {
      "cell_type": "code",
      "source": [
        "a=1\n",
        "\n",
        "if a>7:\n",
        "  print('larger than 7')\n",
        "elif 7>=a>3:\n",
        "  print('less or equal to 5 and larger than 3')\n",
        "else:\n",
        "  print('less or equal to 3')"
      ],
      "metadata": {
        "colab": {
          "base_uri": "https://localhost:8080/"
        },
        "id": "tA0ao8EoqN43",
        "outputId": "702b4f2e-02cf-4d2d-b770-888e9aec428c"
      },
      "execution_count": 105,
      "outputs": [
        {
          "output_type": "stream",
          "name": "stdout",
          "text": [
            "less or equal to 3\n"
          ]
        }
      ]
    },
    {
      "cell_type": "markdown",
      "source": [
        "---\n",
        "function\n",
        "---"
      ],
      "metadata": {
        "id": "HlNNdFuHVKD0"
      }
    },
    {
      "cell_type": "code",
      "source": [
        "def print_input_function(input):\n",
        "  print(input)"
      ],
      "metadata": {
        "id": "0jJYzquGoY6m"
      },
      "execution_count": 92,
      "outputs": []
    },
    {
      "cell_type": "code",
      "source": [
        "print_input_function('hello world')"
      ],
      "metadata": {
        "colab": {
          "base_uri": "https://localhost:8080/"
        },
        "id": "IBogyTn8oeCo",
        "outputId": "cc94e906-eb4c-4de0-f83a-a652ebcd295b"
      },
      "execution_count": 95,
      "outputs": [
        {
          "output_type": "stream",
          "name": "stdout",
          "text": [
            "hello world\n"
          ]
        }
      ]
    },
    {
      "cell_type": "code",
      "source": [
        "def print_input_and_number_function(input, number):\n",
        "    print(input, number)"
      ],
      "metadata": {
        "id": "89kygKTzozqO"
      },
      "execution_count": 94,
      "outputs": []
    },
    {
      "cell_type": "code",
      "source": [
        "print_input_and_number_function('hello world', 3)"
      ],
      "metadata": {
        "colab": {
          "base_uri": "https://localhost:8080/"
        },
        "id": "4KdF7wQYpC1f",
        "outputId": "cb139a06-b134-476d-b5d0-ef1dcf4acad3"
      },
      "execution_count": 96,
      "outputs": [
        {
          "output_type": "stream",
          "name": "stdout",
          "text": [
            "hello world 3\n"
          ]
        }
      ]
    },
    {
      "cell_type": "code",
      "source": [
        "def print_input_with_iteration_function(input, number):\n",
        "    for i in range(0, number):\n",
        "        print(input, i)"
      ],
      "metadata": {
        "id": "1CDnywW4pH5g"
      },
      "execution_count": 99,
      "outputs": []
    },
    {
      "cell_type": "code",
      "source": [
        "print_input_with_iteration_function('hello world', 7)"
      ],
      "metadata": {
        "colab": {
          "base_uri": "https://localhost:8080/"
        },
        "id": "NtqL6iClpTSF",
        "outputId": "da70f838-3f71-4f21-bd87-81907a148856"
      },
      "execution_count": 100,
      "outputs": [
        {
          "output_type": "stream",
          "name": "stdout",
          "text": [
            "hello world 0\n",
            "hello world 1\n",
            "hello world 2\n",
            "hello world 3\n",
            "hello world 4\n",
            "hello world 5\n",
            "hello world 6\n"
          ]
        }
      ]
    },
    {
      "cell_type": "markdown",
      "source": [
        "---\n",
        "# 5 (example demo) Creating our vending machine function\n",
        "---"
      ],
      "metadata": {
        "id": "03ORHSTmVgr7"
      }
    },
    {
      "cell_type": "code",
      "source": [
        "def vending_machine(input):\n",
        "  print('your order is:')\n",
        "  print(input)"
      ],
      "metadata": {
        "id": "kow8e6KGViCB"
      },
      "execution_count": 16,
      "outputs": []
    },
    {
      "cell_type": "code",
      "source": [
        "vending_machine('diet coke')"
      ],
      "metadata": {
        "colab": {
          "base_uri": "https://localhost:8080/"
        },
        "id": "-2YOU2tHV0OZ",
        "outputId": "48619193-071b-442e-b63e-d94a64fe7eff"
      },
      "execution_count": 17,
      "outputs": [
        {
          "output_type": "stream",
          "name": "stdout",
          "text": [
            "your order is:\n",
            "diet coke\n"
          ]
        }
      ]
    },
    {
      "cell_type": "code",
      "source": [
        "def vending_machine_2(input):\n",
        "  if input == 'diet coke':\n",
        "    print('Please pay 2 dollars')\n",
        "  elif input == 'diet pesi':\n",
        "    print('Please pay 3 dollars')\n",
        "  else: \n",
        "    print('Not available')"
      ],
      "metadata": {
        "id": "RxG05UJBV_s-"
      },
      "execution_count": 22,
      "outputs": []
    },
    {
      "cell_type": "code",
      "source": [
        "vending_machine_2('diet pesi')"
      ],
      "metadata": {
        "colab": {
          "base_uri": "https://localhost:8080/"
        },
        "id": "6leqnISxWgK3",
        "outputId": "4c8d0294-d736-4e2e-efdb-bb121d7e51f8"
      },
      "execution_count": 23,
      "outputs": [
        {
          "output_type": "stream",
          "name": "stdout",
          "text": [
            "please pay 3 dollars\n"
          ]
        }
      ]
    },
    {
      "cell_type": "code",
      "source": [
        "vending_machine_2('pesi')"
      ],
      "metadata": {
        "colab": {
          "base_uri": "https://localhost:8080/"
        },
        "id": "TU5ajkeBWoUe",
        "outputId": "07650ec2-47fc-44ba-8985-544fdfe0ba76"
      },
      "execution_count": 24,
      "outputs": [
        {
          "output_type": "stream",
          "name": "stdout",
          "text": [
            "not available\n"
          ]
        }
      ]
    },
    {
      "cell_type": "code",
      "source": [
        "def vending_machine_3(input, money):\n",
        "  if input == 'diet coke':\n",
        "     print('Please pay 2 dollars')\n",
        "     if money >= 2:\n",
        "        print('Your diet coke is out')\n",
        "     else:\n",
        "        print('You need to pay 2 dollars')\n",
        "  elif input == 'diet pesi':\n",
        "       print('Please pay 3 dollars')\n",
        "       if money >= 3:\n",
        "          print('Your diet pesi is out')\n",
        "       else:\n",
        "          print('You need to pay 3 dollars')\n",
        "  else: \n",
        "       print('Not available')"
      ],
      "metadata": {
        "id": "zw7EOyI5W2CM"
      },
      "execution_count": 33,
      "outputs": []
    },
    {
      "cell_type": "code",
      "source": [
        "vending_machine_3('diet pesi',10)"
      ],
      "metadata": {
        "colab": {
          "base_uri": "https://localhost:8080/"
        },
        "id": "lTCW3gO4XooE",
        "outputId": "2e700da0-c8c7-4db9-c9c1-6e123a38503d"
      },
      "execution_count": 32,
      "outputs": [
        {
          "output_type": "stream",
          "name": "stdout",
          "text": [
            "please pay 3 dollars\n",
            "your diet pesi is out\n"
          ]
        }
      ]
    },
    {
      "cell_type": "code",
      "source": [
        "vending_machine_3('diet pesi',1)"
      ],
      "metadata": {
        "colab": {
          "base_uri": "https://localhost:8080/"
        },
        "id": "qmxlaZ87YY2w",
        "outputId": "57b367c0-e654-4ef8-80cf-9289f6bfbdda"
      },
      "execution_count": 34,
      "outputs": [
        {
          "output_type": "stream",
          "name": "stdout",
          "text": [
            "Please pay 3 dollars\n",
            "You need to pay 3 dollars\n"
          ]
        }
      ]
    },
    {
      "cell_type": "markdown",
      "source": [
        "---\n",
        "# 6 (example activities) In-class activity for modifying our vending machine function\n",
        "* modify **vending_machine_3** to print out changes \n",
        "* For example, JJ purchase diet pesi for 10 dollars, and diet pesi is 3 dollars; therefore, the change will be 7 dollars \n",
        "---"
      ],
      "metadata": {
        "id": "4pyw1SVMYvN4"
      }
    },
    {
      "cell_type": "code",
      "source": [
        "# Hint you need to change this code\n",
        "def vending_machine_4(input, money):\n",
        "  if input == 'diet coke':\n",
        "     print('Please pay 2 dollars')\n",
        "     if money >= 2:\n",
        "        print('Your diet coke is out')\n",
        "        print('Your change is :')\n",
        "     \n",
        "     else:\n",
        "        print('You need to pay 2 dollars')\n",
        "  elif input == 'diet pesi':\n",
        "       print('Please pay 3 dollars')\n",
        "       if money >= 3:\n",
        "          print('Your diet pesi is out')\n",
        "          print('Your change is :')\n",
        "         \n",
        "       else:\n",
        "          print('You need to pay 3 dollars')\n",
        "  else: \n",
        "       print('Not available')"
      ],
      "metadata": {
        "id": "nhfFg0zbY28m"
      },
      "execution_count": 38,
      "outputs": []
    },
    {
      "cell_type": "code",
      "source": [
        "vending_machine_4('diet pesi', 10)"
      ],
      "metadata": {
        "colab": {
          "base_uri": "https://localhost:8080/"
        },
        "id": "lwR9fZ9CZwao",
        "outputId": "3cf5fb53-6951-4efc-d342-4a726bb99cf8"
      },
      "execution_count": 39,
      "outputs": [
        {
          "output_type": "stream",
          "name": "stdout",
          "text": [
            "Please pay 3 dollars\n",
            "Your diet pesi is out\n",
            "Your change is :\n"
          ]
        }
      ]
    },
    {
      "cell_type": "markdown",
      "source": [
        "---\n",
        "# 7 (example discussion) How to improve our vending machine function\n",
        "* any open idea to improve our vending machine\n",
        "* for example, can we pay it with bitcoin?\n",
        "---"
      ],
      "metadata": {
        "id": "pGd_iEflcD99"
      }
    },
    {
      "cell_type": "markdown",
      "source": [
        "---\n",
        "# 8 (real data example): Amazon Online Review for Wine (amazon_wine.csv)\n",
        "* data: amazon_wine.csv\n",
        "* overall : five-star ratings\n",
        "* brand : top 5 brand\n",
        "---"
      ],
      "metadata": {
        "id": "hAkhuk9-d0mU"
      }
    },
    {
      "cell_type": "code",
      "source": [
        "import pandas as pd\n",
        "\n",
        "df = pd.read_csv('amazon_wine.csv', index_col=[0])\n",
        "df = df.reset_index(drop=True)\n",
        "df"
      ],
      "metadata": {
        "colab": {
          "base_uri": "https://localhost:8080/",
          "height": 1000
        },
        "id": "8kASzCZmcDkR",
        "outputId": "b9ce4bf7-f7e3-4129-b578-162c549ad7c0"
      },
      "execution_count": 49,
      "outputs": [
        {
          "output_type": "execute_result",
          "data": {
            "text/plain": [
              "      overall  verified   reviewTime      reviewerID        asin  \\\n",
              "0         4.0         0  12 19, 2004   A4UKBG3M5U5TI  B0002IMNMI   \n",
              "1         4.0         0  12 19, 2004   A4UKBG3M5U5TI  B0002IMNMI   \n",
              "2         5.0         0  11 22, 2004  A2066L25IWX8QK  B0002IMNMI   \n",
              "3         5.0         0  11 22, 2004  A2066L25IWX8QK  B0002IMNMI   \n",
              "4         2.0         1  02 22, 2018  A2CQQ797MCDFHU  B0002IMNMI   \n",
              "...       ...       ...          ...             ...         ...   \n",
              "1205      4.0         1   06 3, 2018  A1YQQZ2K6L5LCM  B00JLRUC1K   \n",
              "1206      4.0         1   05 3, 2018  A1SOKOM7JIXLXQ  B00JLRUC1K   \n",
              "1207      3.0         1  04 22, 2018   AVKOI6KWXGUYJ  B00JLRUC1K   \n",
              "1208      5.0         1  04 22, 2018  A18HSVQIC7QO17  B00JLRUC1K   \n",
              "1209      5.0         1  04 19, 2018  A220EKHG6IICUH  B00JLRUC1K   \n",
              "\n",
              "        reviewerName                                         reviewText  \\\n",
              "0            Westley  Cheerwine soda has been a southern tradition s...   \n",
              "1            Westley  Cheerwine soda has been a southern tradition s...   \n",
              "2     Paul A. Fucito  I spent a few years living in North Carolina a...   \n",
              "3     Paul A. Fucito  I spent a few years living in North Carolina a...   \n",
              "4     Robin C Wilson            Okay product, just not worth the price.   \n",
              "...              ...                                                ...   \n",
              "1205     Rhetorician  Fresh, soft, tasty, and chewy--what more do yo...   \n",
              "1206   Charles Braun  Gums were good. Three-bag deal should be offer...   \n",
              "1207        R Wilson                     Fast shipping, good product...   \n",
              "1208             Mia  super yum...just gotta stop buying them they a...   \n",
              "1209  butterflylovah  These are so good. Unfortunately if you live o...   \n",
              "\n",
              "                                                summary  vote  \\\n",
              "0                         Taste the North Carolina dew!  11.0   \n",
              "1                         Taste the North Carolina dew!  11.0   \n",
              "2                               North Carolina Favorite   7.0   \n",
              "3                               North Carolina Favorite   7.0   \n",
              "4                                             Two Stars   NaN   \n",
              "...                                                 ...   ...   \n",
              "1205                             Better Than I Expected   NaN   \n",
              "1206                                         Four Stars   NaN   \n",
              "1207                                      good product.   NaN   \n",
              "1208                                         Five Stars   NaN   \n",
              "1209  These are so good. Unfortunately if you live o...   NaN   \n",
              "\n",
              "                                               category  ...  3  4  5  6  7  \\\n",
              "0     ['Grocery & Gourmet Food', 'Beverages', 'Bottl...  ...  0  0  0  0  0   \n",
              "1     ['Grocery & Gourmet Food', 'Beverages', 'Bottl...  ...  0  0  0  0  0   \n",
              "2     ['Grocery & Gourmet Food', 'Beverages', 'Bottl...  ...  0  0  0  0  0   \n",
              "3     ['Grocery & Gourmet Food', 'Beverages', 'Bottl...  ...  0  0  0  0  0   \n",
              "4     ['Grocery & Gourmet Food', 'Beverages', 'Bottl...  ...  0  0  0  0  0   \n",
              "...                                                 ...  ... .. .. .. .. ..   \n",
              "1205  ['Grocery & Gourmet Food', 'Candy & Chocolate'...  ...  0  0  0  1  0   \n",
              "1206  ['Grocery & Gourmet Food', 'Candy & Chocolate'...  ...  0  0  1  0  0   \n",
              "1207  ['Grocery & Gourmet Food', 'Candy & Chocolate'...  ...  0  1  0  0  0   \n",
              "1208  ['Grocery & Gourmet Food', 'Candy & Chocolate'...  ...  0  1  0  0  0   \n",
              "1209  ['Grocery & Gourmet Food', 'Candy & Chocolate'...  ...  0  1  0  0  0   \n",
              "\n",
              "      8  9  10  11 12  \n",
              "0     0  0   0   0  1  \n",
              "1     0  0   0   0  1  \n",
              "2     0  0   0   1  0  \n",
              "3     0  0   0   1  0  \n",
              "4     0  0   0   0  0  \n",
              "...  .. ..  ..  .. ..  \n",
              "1205  0  0   0   0  0  \n",
              "1206  0  0   0   0  0  \n",
              "1207  0  0   0   0  0  \n",
              "1208  0  0   0   0  0  \n",
              "1209  0  0   0   0  0  \n",
              "\n",
              "[1210 rows x 58 columns]"
            ],
            "text/html": [
              "\n",
              "  <div id=\"df-9c8c6e65-03be-41bd-8581-09b2427db064\">\n",
              "    <div class=\"colab-df-container\">\n",
              "      <div>\n",
              "<style scoped>\n",
              "    .dataframe tbody tr th:only-of-type {\n",
              "        vertical-align: middle;\n",
              "    }\n",
              "\n",
              "    .dataframe tbody tr th {\n",
              "        vertical-align: top;\n",
              "    }\n",
              "\n",
              "    .dataframe thead th {\n",
              "        text-align: right;\n",
              "    }\n",
              "</style>\n",
              "<table border=\"1\" class=\"dataframe\">\n",
              "  <thead>\n",
              "    <tr style=\"text-align: right;\">\n",
              "      <th></th>\n",
              "      <th>overall</th>\n",
              "      <th>verified</th>\n",
              "      <th>reviewTime</th>\n",
              "      <th>reviewerID</th>\n",
              "      <th>asin</th>\n",
              "      <th>reviewerName</th>\n",
              "      <th>reviewText</th>\n",
              "      <th>summary</th>\n",
              "      <th>vote</th>\n",
              "      <th>category</th>\n",
              "      <th>...</th>\n",
              "      <th>3</th>\n",
              "      <th>4</th>\n",
              "      <th>5</th>\n",
              "      <th>6</th>\n",
              "      <th>7</th>\n",
              "      <th>8</th>\n",
              "      <th>9</th>\n",
              "      <th>10</th>\n",
              "      <th>11</th>\n",
              "      <th>12</th>\n",
              "    </tr>\n",
              "  </thead>\n",
              "  <tbody>\n",
              "    <tr>\n",
              "      <th>0</th>\n",
              "      <td>4.0</td>\n",
              "      <td>0</td>\n",
              "      <td>12 19, 2004</td>\n",
              "      <td>A4UKBG3M5U5TI</td>\n",
              "      <td>B0002IMNMI</td>\n",
              "      <td>Westley</td>\n",
              "      <td>Cheerwine soda has been a southern tradition s...</td>\n",
              "      <td>Taste the North Carolina dew!</td>\n",
              "      <td>11.0</td>\n",
              "      <td>['Grocery &amp; Gourmet Food', 'Beverages', 'Bottl...</td>\n",
              "      <td>...</td>\n",
              "      <td>0</td>\n",
              "      <td>0</td>\n",
              "      <td>0</td>\n",
              "      <td>0</td>\n",
              "      <td>0</td>\n",
              "      <td>0</td>\n",
              "      <td>0</td>\n",
              "      <td>0</td>\n",
              "      <td>0</td>\n",
              "      <td>1</td>\n",
              "    </tr>\n",
              "    <tr>\n",
              "      <th>1</th>\n",
              "      <td>4.0</td>\n",
              "      <td>0</td>\n",
              "      <td>12 19, 2004</td>\n",
              "      <td>A4UKBG3M5U5TI</td>\n",
              "      <td>B0002IMNMI</td>\n",
              "      <td>Westley</td>\n",
              "      <td>Cheerwine soda has been a southern tradition s...</td>\n",
              "      <td>Taste the North Carolina dew!</td>\n",
              "      <td>11.0</td>\n",
              "      <td>['Grocery &amp; Gourmet Food', 'Beverages', 'Bottl...</td>\n",
              "      <td>...</td>\n",
              "      <td>0</td>\n",
              "      <td>0</td>\n",
              "      <td>0</td>\n",
              "      <td>0</td>\n",
              "      <td>0</td>\n",
              "      <td>0</td>\n",
              "      <td>0</td>\n",
              "      <td>0</td>\n",
              "      <td>0</td>\n",
              "      <td>1</td>\n",
              "    </tr>\n",
              "    <tr>\n",
              "      <th>2</th>\n",
              "      <td>5.0</td>\n",
              "      <td>0</td>\n",
              "      <td>11 22, 2004</td>\n",
              "      <td>A2066L25IWX8QK</td>\n",
              "      <td>B0002IMNMI</td>\n",
              "      <td>Paul A. Fucito</td>\n",
              "      <td>I spent a few years living in North Carolina a...</td>\n",
              "      <td>North Carolina Favorite</td>\n",
              "      <td>7.0</td>\n",
              "      <td>['Grocery &amp; Gourmet Food', 'Beverages', 'Bottl...</td>\n",
              "      <td>...</td>\n",
              "      <td>0</td>\n",
              "      <td>0</td>\n",
              "      <td>0</td>\n",
              "      <td>0</td>\n",
              "      <td>0</td>\n",
              "      <td>0</td>\n",
              "      <td>0</td>\n",
              "      <td>0</td>\n",
              "      <td>1</td>\n",
              "      <td>0</td>\n",
              "    </tr>\n",
              "    <tr>\n",
              "      <th>3</th>\n",
              "      <td>5.0</td>\n",
              "      <td>0</td>\n",
              "      <td>11 22, 2004</td>\n",
              "      <td>A2066L25IWX8QK</td>\n",
              "      <td>B0002IMNMI</td>\n",
              "      <td>Paul A. Fucito</td>\n",
              "      <td>I spent a few years living in North Carolina a...</td>\n",
              "      <td>North Carolina Favorite</td>\n",
              "      <td>7.0</td>\n",
              "      <td>['Grocery &amp; Gourmet Food', 'Beverages', 'Bottl...</td>\n",
              "      <td>...</td>\n",
              "      <td>0</td>\n",
              "      <td>0</td>\n",
              "      <td>0</td>\n",
              "      <td>0</td>\n",
              "      <td>0</td>\n",
              "      <td>0</td>\n",
              "      <td>0</td>\n",
              "      <td>0</td>\n",
              "      <td>1</td>\n",
              "      <td>0</td>\n",
              "    </tr>\n",
              "    <tr>\n",
              "      <th>4</th>\n",
              "      <td>2.0</td>\n",
              "      <td>1</td>\n",
              "      <td>02 22, 2018</td>\n",
              "      <td>A2CQQ797MCDFHU</td>\n",
              "      <td>B0002IMNMI</td>\n",
              "      <td>Robin C Wilson</td>\n",
              "      <td>Okay product, just not worth the price.</td>\n",
              "      <td>Two Stars</td>\n",
              "      <td>NaN</td>\n",
              "      <td>['Grocery &amp; Gourmet Food', 'Beverages', 'Bottl...</td>\n",
              "      <td>...</td>\n",
              "      <td>0</td>\n",
              "      <td>0</td>\n",
              "      <td>0</td>\n",
              "      <td>0</td>\n",
              "      <td>0</td>\n",
              "      <td>0</td>\n",
              "      <td>0</td>\n",
              "      <td>0</td>\n",
              "      <td>0</td>\n",
              "      <td>0</td>\n",
              "    </tr>\n",
              "    <tr>\n",
              "      <th>...</th>\n",
              "      <td>...</td>\n",
              "      <td>...</td>\n",
              "      <td>...</td>\n",
              "      <td>...</td>\n",
              "      <td>...</td>\n",
              "      <td>...</td>\n",
              "      <td>...</td>\n",
              "      <td>...</td>\n",
              "      <td>...</td>\n",
              "      <td>...</td>\n",
              "      <td>...</td>\n",
              "      <td>...</td>\n",
              "      <td>...</td>\n",
              "      <td>...</td>\n",
              "      <td>...</td>\n",
              "      <td>...</td>\n",
              "      <td>...</td>\n",
              "      <td>...</td>\n",
              "      <td>...</td>\n",
              "      <td>...</td>\n",
              "      <td>...</td>\n",
              "    </tr>\n",
              "    <tr>\n",
              "      <th>1205</th>\n",
              "      <td>4.0</td>\n",
              "      <td>1</td>\n",
              "      <td>06 3, 2018</td>\n",
              "      <td>A1YQQZ2K6L5LCM</td>\n",
              "      <td>B00JLRUC1K</td>\n",
              "      <td>Rhetorician</td>\n",
              "      <td>Fresh, soft, tasty, and chewy--what more do yo...</td>\n",
              "      <td>Better Than I Expected</td>\n",
              "      <td>NaN</td>\n",
              "      <td>['Grocery &amp; Gourmet Food', 'Candy &amp; Chocolate'...</td>\n",
              "      <td>...</td>\n",
              "      <td>0</td>\n",
              "      <td>0</td>\n",
              "      <td>0</td>\n",
              "      <td>1</td>\n",
              "      <td>0</td>\n",
              "      <td>0</td>\n",
              "      <td>0</td>\n",
              "      <td>0</td>\n",
              "      <td>0</td>\n",
              "      <td>0</td>\n",
              "    </tr>\n",
              "    <tr>\n",
              "      <th>1206</th>\n",
              "      <td>4.0</td>\n",
              "      <td>1</td>\n",
              "      <td>05 3, 2018</td>\n",
              "      <td>A1SOKOM7JIXLXQ</td>\n",
              "      <td>B00JLRUC1K</td>\n",
              "      <td>Charles Braun</td>\n",
              "      <td>Gums were good. Three-bag deal should be offer...</td>\n",
              "      <td>Four Stars</td>\n",
              "      <td>NaN</td>\n",
              "      <td>['Grocery &amp; Gourmet Food', 'Candy &amp; Chocolate'...</td>\n",
              "      <td>...</td>\n",
              "      <td>0</td>\n",
              "      <td>0</td>\n",
              "      <td>1</td>\n",
              "      <td>0</td>\n",
              "      <td>0</td>\n",
              "      <td>0</td>\n",
              "      <td>0</td>\n",
              "      <td>0</td>\n",
              "      <td>0</td>\n",
              "      <td>0</td>\n",
              "    </tr>\n",
              "    <tr>\n",
              "      <th>1207</th>\n",
              "      <td>3.0</td>\n",
              "      <td>1</td>\n",
              "      <td>04 22, 2018</td>\n",
              "      <td>AVKOI6KWXGUYJ</td>\n",
              "      <td>B00JLRUC1K</td>\n",
              "      <td>R Wilson</td>\n",
              "      <td>Fast shipping, good product...</td>\n",
              "      <td>good product.</td>\n",
              "      <td>NaN</td>\n",
              "      <td>['Grocery &amp; Gourmet Food', 'Candy &amp; Chocolate'...</td>\n",
              "      <td>...</td>\n",
              "      <td>0</td>\n",
              "      <td>1</td>\n",
              "      <td>0</td>\n",
              "      <td>0</td>\n",
              "      <td>0</td>\n",
              "      <td>0</td>\n",
              "      <td>0</td>\n",
              "      <td>0</td>\n",
              "      <td>0</td>\n",
              "      <td>0</td>\n",
              "    </tr>\n",
              "    <tr>\n",
              "      <th>1208</th>\n",
              "      <td>5.0</td>\n",
              "      <td>1</td>\n",
              "      <td>04 22, 2018</td>\n",
              "      <td>A18HSVQIC7QO17</td>\n",
              "      <td>B00JLRUC1K</td>\n",
              "      <td>Mia</td>\n",
              "      <td>super yum...just gotta stop buying them they a...</td>\n",
              "      <td>Five Stars</td>\n",
              "      <td>NaN</td>\n",
              "      <td>['Grocery &amp; Gourmet Food', 'Candy &amp; Chocolate'...</td>\n",
              "      <td>...</td>\n",
              "      <td>0</td>\n",
              "      <td>1</td>\n",
              "      <td>0</td>\n",
              "      <td>0</td>\n",
              "      <td>0</td>\n",
              "      <td>0</td>\n",
              "      <td>0</td>\n",
              "      <td>0</td>\n",
              "      <td>0</td>\n",
              "      <td>0</td>\n",
              "    </tr>\n",
              "    <tr>\n",
              "      <th>1209</th>\n",
              "      <td>5.0</td>\n",
              "      <td>1</td>\n",
              "      <td>04 19, 2018</td>\n",
              "      <td>A220EKHG6IICUH</td>\n",
              "      <td>B00JLRUC1K</td>\n",
              "      <td>butterflylovah</td>\n",
              "      <td>These are so good. Unfortunately if you live o...</td>\n",
              "      <td>These are so good. Unfortunately if you live o...</td>\n",
              "      <td>NaN</td>\n",
              "      <td>['Grocery &amp; Gourmet Food', 'Candy &amp; Chocolate'...</td>\n",
              "      <td>...</td>\n",
              "      <td>0</td>\n",
              "      <td>1</td>\n",
              "      <td>0</td>\n",
              "      <td>0</td>\n",
              "      <td>0</td>\n",
              "      <td>0</td>\n",
              "      <td>0</td>\n",
              "      <td>0</td>\n",
              "      <td>0</td>\n",
              "      <td>0</td>\n",
              "    </tr>\n",
              "  </tbody>\n",
              "</table>\n",
              "<p>1210 rows × 58 columns</p>\n",
              "</div>\n",
              "      <button class=\"colab-df-convert\" onclick=\"convertToInteractive('df-9c8c6e65-03be-41bd-8581-09b2427db064')\"\n",
              "              title=\"Convert this dataframe to an interactive table.\"\n",
              "              style=\"display:none;\">\n",
              "        \n",
              "  <svg xmlns=\"http://www.w3.org/2000/svg\" height=\"24px\"viewBox=\"0 0 24 24\"\n",
              "       width=\"24px\">\n",
              "    <path d=\"M0 0h24v24H0V0z\" fill=\"none\"/>\n",
              "    <path d=\"M18.56 5.44l.94 2.06.94-2.06 2.06-.94-2.06-.94-.94-2.06-.94 2.06-2.06.94zm-11 1L8.5 8.5l.94-2.06 2.06-.94-2.06-.94L8.5 2.5l-.94 2.06-2.06.94zm10 10l.94 2.06.94-2.06 2.06-.94-2.06-.94-.94-2.06-.94 2.06-2.06.94z\"/><path d=\"M17.41 7.96l-1.37-1.37c-.4-.4-.92-.59-1.43-.59-.52 0-1.04.2-1.43.59L10.3 9.45l-7.72 7.72c-.78.78-.78 2.05 0 2.83L4 21.41c.39.39.9.59 1.41.59.51 0 1.02-.2 1.41-.59l7.78-7.78 2.81-2.81c.8-.78.8-2.07 0-2.86zM5.41 20L4 18.59l7.72-7.72 1.47 1.35L5.41 20z\"/>\n",
              "  </svg>\n",
              "      </button>\n",
              "      \n",
              "  <style>\n",
              "    .colab-df-container {\n",
              "      display:flex;\n",
              "      flex-wrap:wrap;\n",
              "      gap: 12px;\n",
              "    }\n",
              "\n",
              "    .colab-df-convert {\n",
              "      background-color: #E8F0FE;\n",
              "      border: none;\n",
              "      border-radius: 50%;\n",
              "      cursor: pointer;\n",
              "      display: none;\n",
              "      fill: #1967D2;\n",
              "      height: 32px;\n",
              "      padding: 0 0 0 0;\n",
              "      width: 32px;\n",
              "    }\n",
              "\n",
              "    .colab-df-convert:hover {\n",
              "      background-color: #E2EBFA;\n",
              "      box-shadow: 0px 1px 2px rgba(60, 64, 67, 0.3), 0px 1px 3px 1px rgba(60, 64, 67, 0.15);\n",
              "      fill: #174EA6;\n",
              "    }\n",
              "\n",
              "    [theme=dark] .colab-df-convert {\n",
              "      background-color: #3B4455;\n",
              "      fill: #D2E3FC;\n",
              "    }\n",
              "\n",
              "    [theme=dark] .colab-df-convert:hover {\n",
              "      background-color: #434B5C;\n",
              "      box-shadow: 0px 1px 3px 1px rgba(0, 0, 0, 0.15);\n",
              "      filter: drop-shadow(0px 1px 2px rgba(0, 0, 0, 0.3));\n",
              "      fill: #FFFFFF;\n",
              "    }\n",
              "  </style>\n",
              "\n",
              "      <script>\n",
              "        const buttonEl =\n",
              "          document.querySelector('#df-9c8c6e65-03be-41bd-8581-09b2427db064 button.colab-df-convert');\n",
              "        buttonEl.style.display =\n",
              "          google.colab.kernel.accessAllowed ? 'block' : 'none';\n",
              "\n",
              "        async function convertToInteractive(key) {\n",
              "          const element = document.querySelector('#df-9c8c6e65-03be-41bd-8581-09b2427db064');\n",
              "          const dataTable =\n",
              "            await google.colab.kernel.invokeFunction('convertToInteractive',\n",
              "                                                     [key], {});\n",
              "          if (!dataTable) return;\n",
              "\n",
              "          const docLinkHtml = 'Like what you see? Visit the ' +\n",
              "            '<a target=\"_blank\" href=https://colab.research.google.com/notebooks/data_table.ipynb>data table notebook</a>'\n",
              "            + ' to learn more about interactive tables.';\n",
              "          element.innerHTML = '';\n",
              "          dataTable['output_type'] = 'display_data';\n",
              "          await google.colab.output.renderOutput(dataTable, element);\n",
              "          const docLink = document.createElement('div');\n",
              "          docLink.innerHTML = docLinkHtml;\n",
              "          element.appendChild(docLink);\n",
              "        }\n",
              "      </script>\n",
              "    </div>\n",
              "  </div>\n",
              "  "
            ]
          },
          "metadata": {},
          "execution_count": 49
        }
      ]
    },
    {
      "cell_type": "markdown",
      "source": [
        "---\n",
        "# 9 (real data example demo) Applying iteration and function\n",
        "* count total number of reviews\n",
        "* get average star ratings\n",
        "* apply conditional statement\n",
        "* apply iteration\n",
        "* apply function\n",
        "---"
      ],
      "metadata": {
        "id": "27MC0U_ijZsy"
      }
    },
    {
      "cell_type": "code",
      "source": [
        "# check the data type first\n",
        "type(df)"
      ],
      "metadata": {
        "colab": {
          "base_uri": "https://localhost:8080/"
        },
        "id": "cYHm1tyZe3q_",
        "outputId": "f3bf1929-7abb-4207-de79-1d0d629b2d38"
      },
      "execution_count": 52,
      "outputs": [
        {
          "output_type": "execute_result",
          "data": {
            "text/plain": [
              "pandas.core.frame.DataFrame"
            ]
          },
          "metadata": {},
          "execution_count": 52
        }
      ]
    },
    {
      "cell_type": "code",
      "source": [
        "# check the data dimension\n",
        "df.shape"
      ],
      "metadata": {
        "colab": {
          "base_uri": "https://localhost:8080/"
        },
        "id": "oqIUtrd4e1hP",
        "outputId": "ea6b1957-e220-477c-916f-11f960f2d6a2"
      },
      "execution_count": 50,
      "outputs": [
        {
          "output_type": "execute_result",
          "data": {
            "text/plain": [
              "(1210, 58)"
            ]
          },
          "metadata": {},
          "execution_count": 50
        }
      ]
    },
    {
      "cell_type": "code",
      "source": [
        "df.overall.count()"
      ],
      "metadata": {
        "colab": {
          "base_uri": "https://localhost:8080/"
        },
        "id": "z7CzxDQLemeb",
        "outputId": "45ff5953-78c2-4fb3-8f0d-128b111e7382"
      },
      "execution_count": 48,
      "outputs": [
        {
          "output_type": "execute_result",
          "data": {
            "text/plain": [
              "1210"
            ]
          },
          "metadata": {},
          "execution_count": 48
        }
      ]
    },
    {
      "cell_type": "code",
      "source": [
        "df.overall.sum()"
      ],
      "metadata": {
        "colab": {
          "base_uri": "https://localhost:8080/"
        },
        "id": "lws54EUJfeCo",
        "outputId": "ae74268d-08b8-4c3e-8aa2-8b8c41d4f1b0"
      },
      "execution_count": 53,
      "outputs": [
        {
          "output_type": "execute_result",
          "data": {
            "text/plain": [
              "4952.0"
            ]
          },
          "metadata": {},
          "execution_count": 53
        }
      ]
    },
    {
      "cell_type": "code",
      "source": [
        "# average star rating for all reviews \n",
        "df.overall.sum()/df.overall.count()"
      ],
      "metadata": {
        "colab": {
          "base_uri": "https://localhost:8080/"
        },
        "id": "Zt2My-KLfghQ",
        "outputId": "fcb6a47f-c615-43a5-e4f1-0c140a909d2c"
      },
      "execution_count": 54,
      "outputs": [
        {
          "output_type": "execute_result",
          "data": {
            "text/plain": [
              "4.092561983471074"
            ]
          },
          "metadata": {},
          "execution_count": 54
        }
      ]
    },
    {
      "cell_type": "code",
      "source": [
        "# average star rating for all reviews \n",
        "df.overall.mean()"
      ],
      "metadata": {
        "colab": {
          "base_uri": "https://localhost:8080/"
        },
        "id": "v1qaLnckeROl",
        "outputId": "3b69f5c8-506e-4de4-f7f8-8e9dbc45f487"
      },
      "execution_count": 45,
      "outputs": [
        {
          "output_type": "execute_result",
          "data": {
            "text/plain": [
              "4.092561983471074"
            ]
          },
          "metadata": {},
          "execution_count": 45
        }
      ]
    },
    {
      "cell_type": "code",
      "source": [
        "df.brand.unique()"
      ],
      "metadata": {
        "colab": {
          "base_uri": "https://localhost:8080/"
        },
        "id": "wQL17udPftfB",
        "outputId": "5b27fa7d-4333-4825-a8a8-636dad325aa4"
      },
      "execution_count": 55,
      "outputs": [
        {
          "output_type": "execute_result",
          "data": {
            "text/plain": [
              "array(['Cheerwine', \"Gustaf's\", 'Weber', 'Wine Country Gift Baskets'],\n",
              "      dtype=object)"
            ]
          },
          "metadata": {},
          "execution_count": 55
        }
      ]
    },
    {
      "cell_type": "code",
      "source": [
        "brand_list = df.brand.unique()\n",
        "type(brand_list)"
      ],
      "metadata": {
        "colab": {
          "base_uri": "https://localhost:8080/"
        },
        "id": "OFYClM2Ef6L1",
        "outputId": "1976ba35-6706-40c1-883f-9ff322f6f4b2"
      },
      "execution_count": 56,
      "outputs": [
        {
          "output_type": "execute_result",
          "data": {
            "text/plain": [
              "numpy.ndarray"
            ]
          },
          "metadata": {},
          "execution_count": 56
        }
      ]
    },
    {
      "cell_type": "code",
      "source": [
        "brand_list"
      ],
      "metadata": {
        "colab": {
          "base_uri": "https://localhost:8080/"
        },
        "id": "9QrFzhtlgAWs",
        "outputId": "8bd584e0-cdf0-42db-cfe0-812898f33f9d"
      },
      "execution_count": 57,
      "outputs": [
        {
          "output_type": "execute_result",
          "data": {
            "text/plain": [
              "array(['Cheerwine', \"Gustaf's\", 'Weber', 'Wine Country Gift Baskets'],\n",
              "      dtype=object)"
            ]
          },
          "metadata": {},
          "execution_count": 57
        }
      ]
    },
    {
      "cell_type": "code",
      "source": [
        "brand_list[0]"
      ],
      "metadata": {
        "colab": {
          "base_uri": "https://localhost:8080/",
          "height": 35
        },
        "id": "R4p-wkP2gIjV",
        "outputId": "78452b12-45a9-4df7-dc05-1469e5b16b63"
      },
      "execution_count": 60,
      "outputs": [
        {
          "output_type": "execute_result",
          "data": {
            "text/plain": [
              "'Cheerwine'"
            ],
            "application/vnd.google.colaboratory.intrinsic+json": {
              "type": "string"
            }
          },
          "metadata": {},
          "execution_count": 60
        }
      ]
    },
    {
      "cell_type": "markdown",
      "source": [
        "---\n",
        "* How to check dimension of each brand?\n",
        "---"
      ],
      "metadata": {
        "id": "dIHS20d4g-i1"
      }
    },
    {
      "cell_type": "code",
      "source": [
        "df[df.brand==brand_list[0]].shape"
      ],
      "metadata": {
        "colab": {
          "base_uri": "https://localhost:8080/"
        },
        "id": "dTuJW-3NgCbz",
        "outputId": "cbf197ee-04e3-49cc-ad81-36836e2c4b8f"
      },
      "execution_count": 64,
      "outputs": [
        {
          "output_type": "execute_result",
          "data": {
            "text/plain": [
              "(304, 58)"
            ]
          },
          "metadata": {},
          "execution_count": 64
        }
      ]
    },
    {
      "cell_type": "code",
      "source": [
        "df[df.brand==brand_list[1]].shape"
      ],
      "metadata": {
        "colab": {
          "base_uri": "https://localhost:8080/"
        },
        "id": "3UtyzgzWgQro",
        "outputId": "9fc1dc46-f0de-4c78-8cb7-d4f6ab0aeba8"
      },
      "execution_count": 65,
      "outputs": [
        {
          "output_type": "execute_result",
          "data": {
            "text/plain": [
              "(581, 58)"
            ]
          },
          "metadata": {},
          "execution_count": 65
        }
      ]
    },
    {
      "cell_type": "code",
      "source": [
        "df[df.brand==brand_list[2]].shape"
      ],
      "metadata": {
        "colab": {
          "base_uri": "https://localhost:8080/"
        },
        "id": "f6Qwy5Y8gVQ0",
        "outputId": "c0e6a3a0-4c74-436b-a458-d2f6b4b88613"
      },
      "execution_count": 66,
      "outputs": [
        {
          "output_type": "execute_result",
          "data": {
            "text/plain": [
              "(143, 58)"
            ]
          },
          "metadata": {},
          "execution_count": 66
        }
      ]
    },
    {
      "cell_type": "code",
      "source": [
        "df[df.brand==brand_list[3]].shape"
      ],
      "metadata": {
        "colab": {
          "base_uri": "https://localhost:8080/"
        },
        "id": "k8TGoZ_JgXZk",
        "outputId": "7d2f9f03-2482-4cb5-97a9-4ce243084aa7"
      },
      "execution_count": 67,
      "outputs": [
        {
          "output_type": "execute_result",
          "data": {
            "text/plain": [
              "(182, 58)"
            ]
          },
          "metadata": {},
          "execution_count": 67
        }
      ]
    },
    {
      "cell_type": "markdown",
      "source": [
        "* how to check the sample size for each brand?"
      ],
      "metadata": {
        "id": "EvbgJeOahDWC"
      }
    },
    {
      "cell_type": "code",
      "source": [
        "# just sample size\n",
        "df[df.brand==brand_list[3]].shape[0]"
      ],
      "metadata": {
        "colab": {
          "base_uri": "https://localhost:8080/"
        },
        "id": "H0hwpiYPgbfJ",
        "outputId": "f1d45bc6-cf7e-4469-b21f-b244da715486"
      },
      "execution_count": 70,
      "outputs": [
        {
          "output_type": "execute_result",
          "data": {
            "text/plain": [
              "182"
            ]
          },
          "metadata": {},
          "execution_count": 70
        }
      ]
    },
    {
      "cell_type": "markdown",
      "source": [
        "---\n",
        "* how to get average star rating for each brand?\n",
        "---"
      ],
      "metadata": {
        "id": "2u9I4G-zgtGW"
      }
    },
    {
      "cell_type": "code",
      "source": [
        "df[df.brand==brand_list[0]].overall.mean()"
      ],
      "metadata": {
        "colab": {
          "base_uri": "https://localhost:8080/"
        },
        "id": "8ZONDgxzgsYW",
        "outputId": "dd68a99b-6119-4e2b-cb8d-dc077ed47fe0"
      },
      "execution_count": 71,
      "outputs": [
        {
          "output_type": "execute_result",
          "data": {
            "text/plain": [
              "4.2368421052631575"
            ]
          },
          "metadata": {},
          "execution_count": 71
        }
      ]
    },
    {
      "cell_type": "code",
      "source": [
        "df[df.brand==brand_list[1]].overall.mean()"
      ],
      "metadata": {
        "colab": {
          "base_uri": "https://localhost:8080/"
        },
        "id": "X0evoo2og2ih",
        "outputId": "5e0fc18d-bf7b-4dcd-f2d6-e7c56877f7c7"
      },
      "execution_count": 72,
      "outputs": [
        {
          "output_type": "execute_result",
          "data": {
            "text/plain": [
              "3.9259896729776247"
            ]
          },
          "metadata": {},
          "execution_count": 72
        }
      ]
    },
    {
      "cell_type": "code",
      "source": [
        "df[df.brand==brand_list[2]].overall.mean()"
      ],
      "metadata": {
        "colab": {
          "base_uri": "https://localhost:8080/"
        },
        "id": "eSWJSqJug2VZ",
        "outputId": "798d24c4-52e5-49af-f39f-e9e0be42f7e7"
      },
      "execution_count": 73,
      "outputs": [
        {
          "output_type": "execute_result",
          "data": {
            "text/plain": [
              "4.86013986013986"
            ]
          },
          "metadata": {},
          "execution_count": 73
        }
      ]
    },
    {
      "cell_type": "code",
      "source": [
        "df[df.brand==brand_list[3]].overall.mean()"
      ],
      "metadata": {
        "colab": {
          "base_uri": "https://localhost:8080/"
        },
        "id": "qX3RE4vBg2HJ",
        "outputId": "761409a3-ee04-4ae9-8ea8-106f8e2eb469"
      },
      "execution_count": 74,
      "outputs": [
        {
          "output_type": "execute_result",
          "data": {
            "text/plain": [
              "3.78021978021978"
            ]
          },
          "metadata": {},
          "execution_count": 74
        }
      ]
    },
    {
      "cell_type": "markdown",
      "source": [
        "---\n",
        "* make it simpler using iteration\n",
        "---"
      ],
      "metadata": {
        "id": "4ESvmUHmgqX2"
      }
    },
    {
      "cell_type": "code",
      "source": [
        "for i in range(0, len(brand_list)):\n",
        "    print('\\nTotal number of reviews for', brand_list[i])\n",
        "    print(df[df.brand==brand_list[i]].shape[0])\n",
        "    print('Average star rating for', brand_list[i])\n",
        "    print(df[df.brand==brand_list[i]].overall.mean())"
      ],
      "metadata": {
        "colab": {
          "base_uri": "https://localhost:8080/"
        },
        "id": "EFpFMbXZhMsP",
        "outputId": "5ceb7cdd-94a6-4758-e873-7a7b6f23297c"
      },
      "execution_count": 83,
      "outputs": [
        {
          "output_type": "stream",
          "name": "stdout",
          "text": [
            "\n",
            "Total number of reviews for Cheerwine\n",
            "304\n",
            "Average star rating for Cheerwine\n",
            "4.2368421052631575\n",
            "\n",
            "Total number of reviews for Gustaf's\n",
            "581\n",
            "Average star rating for Gustaf's\n",
            "3.9259896729776247\n",
            "\n",
            "Total number of reviews for Weber\n",
            "143\n",
            "Average star rating for Weber\n",
            "4.86013986013986\n",
            "\n",
            "Total number of reviews for Wine Country Gift Baskets\n",
            "182\n",
            "Average star rating for Wine Country Gift Baskets\n",
            "3.78021978021978\n"
          ]
        }
      ]
    },
    {
      "cell_type": "markdown",
      "source": [
        "---\n",
        "* make it simpler using function\n",
        "---"
      ],
      "metadata": {
        "id": "gpEJoq2MiOWj"
      }
    },
    {
      "cell_type": "code",
      "source": [
        "def review_count_and_average_rating(data, our_brand_list):\n",
        "    for i in range(0, len(our_brand_list)):\n",
        "        print('\\nTotal number of reviews for', our_brand_list[i])\n",
        "        print(data[data.brand==our_brand_list[i]].shape[0])\n",
        "        print('Average star rating for', brand_list[i])\n",
        "        print(data[data.brand==our_brand_list[i]].overall.mean())"
      ],
      "metadata": {
        "id": "CickDkv6iScb"
      },
      "execution_count": 84,
      "outputs": []
    },
    {
      "cell_type": "code",
      "source": [
        "review_count_and_average_rating(df, brand_list)"
      ],
      "metadata": {
        "colab": {
          "base_uri": "https://localhost:8080/"
        },
        "id": "cBEleIhIi-pZ",
        "outputId": "153eed4b-ab4a-4589-c72b-a67e240f3893"
      },
      "execution_count": 85,
      "outputs": [
        {
          "output_type": "stream",
          "name": "stdout",
          "text": [
            "\n",
            "Total number of reviews for Cheerwine\n",
            "304\n",
            "Average star rating for Cheerwine\n",
            "4.2368421052631575\n",
            "\n",
            "Total number of reviews for Gustaf's\n",
            "581\n",
            "Average star rating for Gustaf's\n",
            "3.9259896729776247\n",
            "\n",
            "Total number of reviews for Weber\n",
            "143\n",
            "Average star rating for Weber\n",
            "4.86013986013986\n",
            "\n",
            "Total number of reviews for Wine Country Gift Baskets\n",
            "182\n",
            "Average star rating for Wine Country Gift Baskets\n",
            "3.78021978021978\n"
          ]
        }
      ]
    },
    {
      "cell_type": "code",
      "source": [
        "brand_list[0:2]"
      ],
      "metadata": {
        "colab": {
          "base_uri": "https://localhost:8080/"
        },
        "id": "fbB6AzAnjC-p",
        "outputId": "39830f52-cd7b-4397-911d-783f5f756d45"
      },
      "execution_count": 86,
      "outputs": [
        {
          "output_type": "execute_result",
          "data": {
            "text/plain": [
              "array(['Cheerwine', \"Gustaf's\"], dtype=object)"
            ]
          },
          "metadata": {},
          "execution_count": 86
        }
      ]
    },
    {
      "cell_type": "code",
      "source": [
        "review_count_and_average_rating(df, brand_list[0:2])"
      ],
      "metadata": {
        "colab": {
          "base_uri": "https://localhost:8080/"
        },
        "id": "qB0hm8ftjGDF",
        "outputId": "849a18aa-c0a2-4e7f-bba4-138eae67adfc"
      },
      "execution_count": 87,
      "outputs": [
        {
          "output_type": "stream",
          "name": "stdout",
          "text": [
            "\n",
            "Total number of reviews for Cheerwine\n",
            "304\n",
            "Average star rating for Cheerwine\n",
            "4.2368421052631575\n",
            "\n",
            "Total number of reviews for Gustaf's\n",
            "581\n",
            "Average star rating for Gustaf's\n",
            "3.9259896729776247\n"
          ]
        }
      ]
    },
    {
      "cell_type": "markdown",
      "source": [
        "---\n",
        "# 10 (real data example activity) Applying all we have learn today\n",
        "* apply iteration \n",
        "* apply function\n",
        "---"
      ],
      "metadata": {
        "id": "hxEAMUtYjyUy"
      }
    },
    {
      "cell_type": "markdown",
      "source": [
        "---\n",
        "* how to get the sum of all reviews in each brand using iteration?\n",
        "---"
      ],
      "metadata": {
        "id": "mtPUIcRpj188"
      }
    },
    {
      "cell_type": "code",
      "source": [
        "# modify the following code\n",
        "for i in range(0, len(brand_list)):\n",
        "    print('\\nTotal number of reviews for', brand_list[i])\n",
        "    print(df[df.brand==brand_list[i]].shape[0])\n",
        "    print('Average star rating for', brand_list[i])\n",
        "    print(df[df.brand==brand_list[i]].overall.mean())"
      ],
      "metadata": {
        "colab": {
          "base_uri": "https://localhost:8080/"
        },
        "id": "SO3jZs-5j1d_",
        "outputId": "1405444a-70ea-4c19-b18c-9cd06a15a454"
      },
      "execution_count": 88,
      "outputs": [
        {
          "output_type": "stream",
          "name": "stdout",
          "text": [
            "\n",
            "Total number of reviews for Cheerwine\n",
            "1288.0\n",
            "\n",
            "Total number of reviews for Gustaf's\n",
            "2281.0\n",
            "\n",
            "Total number of reviews for Weber\n",
            "695.0\n",
            "\n",
            "Total number of reviews for Wine Country Gift Baskets\n",
            "688.0\n"
          ]
        }
      ]
    },
    {
      "cell_type": "markdown",
      "source": [
        "----\n",
        "* how to get the sum of all reviews in each brand using function?\n",
        "hint: sum()\n",
        "----"
      ],
      "metadata": {
        "id": "rXw3IaPKkXg7"
      }
    },
    {
      "cell_type": "code",
      "source": [
        "# modify the following code\n",
        "def review_count_and_average_rating(data, our_brand_list):\n",
        "    for i in range(0, len(our_brand_list)):\n",
        "        print('\\nTotal number of reviews for', our_brand_list[i])\n",
        "        print(data[data.brand==our_brand_list[i]].shape[0])\n",
        "        print('Average star rating for', brand_list[i])\n",
        "        print(data[data.brand==our_brand_list[i]].overall.mean())"
      ],
      "metadata": {
        "id": "wIbNmZslkXTq"
      },
      "execution_count": null,
      "outputs": []
    },
    {
      "cell_type": "code",
      "source": [
        "#def sum_of_ratings_brand(data, our_brand_list):\n",
        "\n",
        "\n",
        "#sum_of_ratings_brand(df, brand_list)"
      ],
      "metadata": {
        "colab": {
          "base_uri": "https://localhost:8080/"
        },
        "id": "MjnuhtjPj0MR",
        "outputId": "59f85677-b4a0-4268-c590-cab7569ccd6f"
      },
      "execution_count": 89,
      "outputs": [
        {
          "output_type": "stream",
          "name": "stdout",
          "text": [
            "\n",
            "Total number of reviews for Cheerwine\n",
            "1288.0\n",
            "\n",
            "Total number of reviews for Gustaf's\n",
            "2281.0\n",
            "\n",
            "Total number of reviews for Weber\n",
            "695.0\n",
            "\n",
            "Total number of reviews for Wine Country Gift Baskets\n",
            "688.0\n"
          ]
        }
      ]
    },
    {
      "cell_type": "markdown",
      "source": [
        "# 11 (real data example discussion) For computational thinking and future ideas\n",
        "* what can we do more?\n",
        "* for example, \n",
        "* how to detect fake reviews? \n",
        "* what are the determinant of consumer happiness (the five star ratings)?"
      ],
      "metadata": {
        "id": "4LHHCch8l6dW"
      }
    },
    {
      "cell_type": "markdown",
      "source": [
        "---\n",
        "# 12 Share resources for future studies\n",
        "* Yelp product review dataset: https://www.yelp.com/dataset\n",
        "* Amazon product review dataset: http://jmcauley.ucsd.edu/data/amazon/links.html\n",
        "* NYTimes API (book and movie reviews): https://developer.nytimes.com/apis\n",
        "* Amazon review analysis paper:\n",
        "https://ieeexplore.ieee.org/abstract/document/9590517\n",
        "---"
      ],
      "metadata": {
        "id": "gF3sclGJmGEq"
      }
    },
    {
      "cell_type": "markdown",
      "source": [
        "# Q&A"
      ],
      "metadata": {
        "id": "_1KUtIN7mIYt"
      }
    }
  ]
}